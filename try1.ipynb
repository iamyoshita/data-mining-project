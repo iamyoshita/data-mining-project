{
 "cells": [
  {
   "cell_type": "code",
   "execution_count": 1,
   "id": "27ec378c",
   "metadata": {},
   "outputs": [
    {
     "name": "stdout",
     "output_type": "stream",
     "text": [
      "Time to clean up everything: 0.0 mins\n",
      "(8, 1)\n",
      "[['wound', 'healing', 'importantabhd', 'physiological', 'process', 'maintain', 'integrity', 'skin', 'trauma', 'accident', 'intent', 'procedure', 'normal', 'wound', 'healing', 'involve', 'successive', 'overlap', 'phase', 'include', 'hemostasis', 'inflammatory', 'phase', 'proliferative', 'phase', 'remodeling', 'phase', 'aberration', 'wound', 'healing', 'excessive', 'wound', 'heal', 'hypertrophic', 'scar', 'keloid', 'chronic', 'wound', 'ulcer', 'impair', 'normal', 'physical', 'function', 'large', 'number', 'sophisticated', 'experimental', 'study', 'provide', 'insight', 'wound', 'healing', 'article', 'highlight', 'information', 'main', 'text', 'include', 'wound', 'healing', 'ii', 'wound', 'healing', 'fetus', 'adult', 'iii', 'prostaglandin', 'wound', 'healing', 'iv', 'pathogenesis', 'excessive', 'wound', 'healing', 'v', 'epidemiology', 'excessive', 'wound', 'healing', 'vi', 'vitro', 'vivo', 'study', 'excessive', 'wound', 'healing', 'vii', 'stem', 'cell', 'therapy', 'excessive', 'wound', 'healing', 'viii', 'prevention', 'strategy', 'excessive', 'wound', 'healing'], ['cutaneous', 'wound', 'healing', 'complex', 'process', 'involve', 'blood', 'clot', 'inflammation', 'new', 'tissue', 'formation', 'finally', 'tissue', 'remodel', 'describe', 'histological', 'level', 'gene', 'regulate', 'skin', 'repair', 'partially', 'identify', 'experimental', 'clinical', 'study', 'demonstrate', 'varied', 'case', 'beneficial', 'effect', 'exogenous', 'growth', 'factor', 'healing', 'process', 'role', 'play', 'endogenous', 'growth', 'factor', 'remain', 'largely', 'unclear', 'initial', 'approach', 'address', 'question', 'focus', 'expression', 'analysis', 'growth', 'factor', 'cytokine', 'receptor', 'different', 'wound', 'model', 'functional', 'datum', 'obtain', 'apply', 'neutralize', 'antibody', 'wound', 'past', 'year', 'availability', 'genetically', 'modify', 'mouse', 'allow', 'elucidation', 'function', 'gene', 'healing', 'process', 'study', 'shed', 'light', 'role', 'growth', 'factor', 'cytokine', 'downstream', 'effector', 'wound', 'repair', 'review', 'summarize', 'result', 'expression', 'study', 'perform', 'rodent', 'pig', 'human', 'localize', 'growth', 'factor', 'receptor', 'skin', 'wound', 'importantly', 'report', 'genetic', 'study', 'address', 'function', 'endogenous', 'growth', 'factor', 'wound', 'repair', 'process']]\n"
     ]
    },
    {
     "name": "stderr",
     "output_type": "stream",
     "text": [
      "INFO - 00:53:52: Word2Vec lifecycle event {'params': 'Word2Vec(vocab=0, vector_size=50, alpha=0.03)', 'datetime': '2022-04-01T00:53:52.973751', 'gensim': '4.1.2', 'python': '3.8.12 (default, Oct 12 2021, 03:01:40) [MSC v.1916 64 bit (AMD64)]', 'platform': 'Windows-10-10.0.22000-SP0', 'event': 'created'}\n",
      "INFO - 00:53:52: collecting all words and their counts\n",
      "INFO - 00:53:52: PROGRESS: at sentence #0, processed 0 words, keeping 0 word types\n",
      "INFO - 00:53:52: collected 494 word types from a corpus of 1012 raw words and 8 sentences\n",
      "INFO - 00:53:52: Creating a fresh vocabulary\n",
      "INFO - 00:53:52: Word2Vec lifecycle event {'msg': 'effective_min_count=3 retains 70 unique words (14.17004048582996%% of original 494, drops 424)', 'datetime': '2022-04-01T00:53:52.984019', 'gensim': '4.1.2', 'python': '3.8.12 (default, Oct 12 2021, 03:01:40) [MSC v.1916 64 bit (AMD64)]', 'platform': 'Windows-10-10.0.22000-SP0', 'event': 'prepare_vocab'}\n",
      "INFO - 00:53:52: Word2Vec lifecycle event {'msg': 'effective_min_count=3 leaves 499 word corpus (49.308300395256914%% of original 1012, drops 513)', 'datetime': '2022-04-01T00:53:52.984019', 'gensim': '4.1.2', 'python': '3.8.12 (default, Oct 12 2021, 03:01:40) [MSC v.1916 64 bit (AMD64)]', 'platform': 'Windows-10-10.0.22000-SP0', 'event': 'prepare_vocab'}\n",
      "INFO - 00:53:52: deleting the raw counts dictionary of 494 items\n",
      "INFO - 00:53:52: sample=6e-05 downsamples 70 most-common words\n",
      "INFO - 00:53:52: Word2Vec lifecycle event {'msg': 'downsampling leaves estimated 31.59007697355673 word corpus (6.3%% of prior 499)', 'datetime': '2022-04-01T00:53:52.991071', 'gensim': '4.1.2', 'python': '3.8.12 (default, Oct 12 2021, 03:01:40) [MSC v.1916 64 bit (AMD64)]', 'platform': 'Windows-10-10.0.22000-SP0', 'event': 'prepare_vocab'}\n",
      "INFO - 00:53:52: estimated required memory for 70 words and 50 dimensions: 63000 bytes\n",
      "INFO - 00:53:52: resetting layer weights\n",
      "INFO - 00:53:52: Word2Vec lifecycle event {'update': False, 'trim_rule': 'None', 'datetime': '2022-04-01T00:53:52.991071', 'gensim': '4.1.2', 'python': '3.8.12 (default, Oct 12 2021, 03:01:40) [MSC v.1916 64 bit (AMD64)]', 'platform': 'Windows-10-10.0.22000-SP0', 'event': 'build_vocab'}\n",
      "INFO - 00:53:52: Word2Vec lifecycle event {'msg': 'training model with 7 workers on 70 vocabulary and 50 features, using sg=0 hs=0 sample=6e-05 negative=20 window=2 shrink_windows=True', 'datetime': '2022-04-01T00:53:52.999717', 'gensim': '4.1.2', 'python': '3.8.12 (default, Oct 12 2021, 03:01:40) [MSC v.1916 64 bit (AMD64)]', 'platform': 'Windows-10-10.0.22000-SP0', 'event': 'train'}\n",
      "INFO - 00:53:53: worker thread finished; awaiting finish of 6 more threads\n",
      "INFO - 00:53:53: worker thread finished; awaiting finish of 5 more threads\n",
      "INFO - 00:53:53: worker thread finished; awaiting finish of 4 more threads\n",
      "INFO - 00:53:53: worker thread finished; awaiting finish of 3 more threads\n",
      "INFO - 00:53:53: worker thread finished; awaiting finish of 2 more threads\n",
      "INFO - 00:53:53: worker thread finished; awaiting finish of 1 more threads\n",
      "INFO - 00:53:53: worker thread finished; awaiting finish of 0 more threads\n",
      "INFO - 00:53:53: EPOCH - 1 : training on 1012 raw words (21 effective words) took 0.0s, 1973 effective words/s\n",
      "INFO - 00:53:53: worker thread finished; awaiting finish of 6 more threads\n",
      "INFO - 00:53:53: worker thread finished; awaiting finish of 5 more threads\n",
      "INFO - 00:53:53: worker thread finished; awaiting finish of 4 more threads\n",
      "INFO - 00:53:53: worker thread finished; awaiting finish of 3 more threads\n",
      "INFO - 00:53:53: worker thread finished; awaiting finish of 2 more threads\n",
      "INFO - 00:53:53: worker thread finished; awaiting finish of 1 more threads\n",
      "INFO - 00:53:53: worker thread finished; awaiting finish of 0 more threads\n",
      "INFO - 00:53:53: EPOCH - 2 : training on 1012 raw words (33 effective words) took 0.0s, 4209 effective words/s\n",
      "INFO - 00:53:53: worker thread finished; awaiting finish of 6 more threads\n",
      "INFO - 00:53:53: worker thread finished; awaiting finish of 5 more threads\n",
      "INFO - 00:53:53: worker thread finished; awaiting finish of 4 more threads\n",
      "INFO - 00:53:53: worker thread finished; awaiting finish of 3 more threads\n",
      "INFO - 00:53:53: worker thread finished; awaiting finish of 2 more threads\n",
      "INFO - 00:53:53: worker thread finished; awaiting finish of 1 more threads\n",
      "INFO - 00:53:53: worker thread finished; awaiting finish of 0 more threads\n",
      "INFO - 00:53:53: EPOCH - 3 : training on 1012 raw words (35 effective words) took 0.0s, 3746 effective words/s\n",
      "INFO - 00:53:53: worker thread finished; awaiting finish of 6 more threads\n",
      "INFO - 00:53:53: worker thread finished; awaiting finish of 5 more threads\n",
      "INFO - 00:53:53: worker thread finished; awaiting finish of 4 more threads\n",
      "INFO - 00:53:53: worker thread finished; awaiting finish of 3 more threads\n",
      "INFO - 00:53:53: worker thread finished; awaiting finish of 2 more threads\n",
      "INFO - 00:53:53: worker thread finished; awaiting finish of 1 more threads\n",
      "INFO - 00:53:53: worker thread finished; awaiting finish of 0 more threads\n",
      "INFO - 00:53:53: EPOCH - 4 : training on 1012 raw words (29 effective words) took 0.0s, 2678 effective words/s\n",
      "INFO - 00:53:53: worker thread finished; awaiting finish of 6 more threads\n",
      "INFO - 00:53:53: worker thread finished; awaiting finish of 5 more threads\n",
      "INFO - 00:53:53: worker thread finished; awaiting finish of 4 more threads\n",
      "INFO - 00:53:53: worker thread finished; awaiting finish of 3 more threads\n",
      "INFO - 00:53:53: worker thread finished; awaiting finish of 2 more threads\n",
      "INFO - 00:53:53: worker thread finished; awaiting finish of 1 more threads\n",
      "INFO - 00:53:53: worker thread finished; awaiting finish of 0 more threads\n",
      "INFO - 00:53:53: EPOCH - 5 : training on 1012 raw words (30 effective words) took 0.0s, 3479 effective words/s\n",
      "INFO - 00:53:53: worker thread finished; awaiting finish of 6 more threads\n",
      "INFO - 00:53:53: worker thread finished; awaiting finish of 5 more threads\n",
      "INFO - 00:53:53: worker thread finished; awaiting finish of 4 more threads\n",
      "INFO - 00:53:53: worker thread finished; awaiting finish of 3 more threads\n",
      "INFO - 00:53:53: worker thread finished; awaiting finish of 2 more threads\n",
      "INFO - 00:53:53: worker thread finished; awaiting finish of 1 more threads\n",
      "INFO - 00:53:53: worker thread finished; awaiting finish of 0 more threads\n",
      "INFO - 00:53:53: EPOCH - 6 : training on 1012 raw words (32 effective words) took 0.0s, 3142 effective words/s\n",
      "INFO - 00:53:53: worker thread finished; awaiting finish of 6 more threads\n",
      "INFO - 00:53:53: worker thread finished; awaiting finish of 5 more threads\n",
      "INFO - 00:53:53: worker thread finished; awaiting finish of 4 more threads\n",
      "INFO - 00:53:53: worker thread finished; awaiting finish of 3 more threads\n",
      "INFO - 00:53:53: worker thread finished; awaiting finish of 2 more threads\n",
      "INFO - 00:53:53: worker thread finished; awaiting finish of 1 more threads\n",
      "INFO - 00:53:53: worker thread finished; awaiting finish of 0 more threads\n",
      "INFO - 00:53:53: EPOCH - 7 : training on 1012 raw words (24 effective words) took 0.0s, 2787 effective words/s\n",
      "INFO - 00:53:53: worker thread finished; awaiting finish of 6 more threads\n",
      "INFO - 00:53:53: worker thread finished; awaiting finish of 5 more threads\n",
      "INFO - 00:53:53: worker thread finished; awaiting finish of 4 more threads\n",
      "INFO - 00:53:53: worker thread finished; awaiting finish of 3 more threads\n",
      "INFO - 00:53:53: worker thread finished; awaiting finish of 2 more threads\n",
      "INFO - 00:53:53: worker thread finished; awaiting finish of 1 more threads\n",
      "INFO - 00:53:53: worker thread finished; awaiting finish of 0 more threads\n",
      "INFO - 00:53:53: EPOCH - 8 : training on 1012 raw words (23 effective words) took 0.0s, 2383 effective words/s\n",
      "INFO - 00:53:53: worker thread finished; awaiting finish of 6 more threads\n",
      "INFO - 00:53:53: worker thread finished; awaiting finish of 5 more threads\n",
      "INFO - 00:53:53: worker thread finished; awaiting finish of 4 more threads\n",
      "INFO - 00:53:53: worker thread finished; awaiting finish of 3 more threads\n",
      "INFO - 00:53:53: worker thread finished; awaiting finish of 2 more threads\n",
      "INFO - 00:53:53: worker thread finished; awaiting finish of 1 more threads\n",
      "INFO - 00:53:53: worker thread finished; awaiting finish of 0 more threads\n",
      "INFO - 00:53:53: EPOCH - 9 : training on 1012 raw words (26 effective words) took 0.0s, 2423 effective words/s\n"
     ]
    },
    {
     "name": "stderr",
     "output_type": "stream",
     "text": [
      "INFO - 00:53:53: worker thread finished; awaiting finish of 6 more threads\n",
      "INFO - 00:53:53: worker thread finished; awaiting finish of 5 more threads\n",
      "INFO - 00:53:53: worker thread finished; awaiting finish of 4 more threads\n",
      "INFO - 00:53:53: worker thread finished; awaiting finish of 3 more threads\n",
      "INFO - 00:53:53: worker thread finished; awaiting finish of 2 more threads\n",
      "INFO - 00:53:53: worker thread finished; awaiting finish of 1 more threads\n",
      "INFO - 00:53:53: worker thread finished; awaiting finish of 0 more threads\n",
      "INFO - 00:53:53: EPOCH - 10 : training on 1012 raw words (41 effective words) took 0.0s, 4217 effective words/s\n"
     ]
    },
    {
     "name": "stdout",
     "output_type": "stream",
     "text": [
      "Time to build vocab: 0.0 mins\n"
     ]
    },
    {
     "name": "stderr",
     "output_type": "stream",
     "text": [
      "INFO - 00:53:53: worker thread finished; awaiting finish of 6 more threads\n",
      "INFO - 00:53:53: worker thread finished; awaiting finish of 5 more threads\n",
      "INFO - 00:53:53: worker thread finished; awaiting finish of 4 more threads\n",
      "INFO - 00:53:53: worker thread finished; awaiting finish of 3 more threads\n",
      "INFO - 00:53:53: worker thread finished; awaiting finish of 2 more threads\n",
      "INFO - 00:53:53: worker thread finished; awaiting finish of 1 more threads\n",
      "INFO - 00:53:53: worker thread finished; awaiting finish of 0 more threads\n",
      "INFO - 00:53:53: EPOCH - 11 : training on 1012 raw words (33 effective words) took 0.0s, 2380 effective words/s\n",
      "INFO - 00:53:53: worker thread finished; awaiting finish of 6 more threads\n",
      "INFO - 00:53:53: worker thread finished; awaiting finish of 5 more threads\n",
      "INFO - 00:53:53: worker thread finished; awaiting finish of 4 more threads\n",
      "INFO - 00:53:53: worker thread finished; awaiting finish of 3 more threads\n",
      "INFO - 00:53:53: worker thread finished; awaiting finish of 2 more threads\n",
      "INFO - 00:53:53: worker thread finished; awaiting finish of 1 more threads\n",
      "INFO - 00:53:53: worker thread finished; awaiting finish of 0 more threads\n",
      "INFO - 00:53:53: EPOCH - 12 : training on 1012 raw words (36 effective words) took 0.0s, 3350 effective words/s\n",
      "INFO - 00:53:53: worker thread finished; awaiting finish of 6 more threads\n",
      "INFO - 00:53:53: worker thread finished; awaiting finish of 5 more threads\n",
      "INFO - 00:53:53: worker thread finished; awaiting finish of 4 more threads\n",
      "INFO - 00:53:53: worker thread finished; awaiting finish of 3 more threads\n",
      "INFO - 00:53:53: worker thread finished; awaiting finish of 2 more threads\n",
      "INFO - 00:53:53: worker thread finished; awaiting finish of 1 more threads\n",
      "INFO - 00:53:53: worker thread finished; awaiting finish of 0 more threads\n",
      "INFO - 00:53:53: EPOCH - 13 : training on 1012 raw words (35 effective words) took 0.0s, 3803 effective words/s\n",
      "INFO - 00:53:53: worker thread finished; awaiting finish of 6 more threads\n",
      "INFO - 00:53:53: worker thread finished; awaiting finish of 5 more threads\n",
      "INFO - 00:53:53: worker thread finished; awaiting finish of 4 more threads\n",
      "INFO - 00:53:53: worker thread finished; awaiting finish of 3 more threads\n",
      "INFO - 00:53:53: worker thread finished; awaiting finish of 2 more threads\n",
      "INFO - 00:53:53: worker thread finished; awaiting finish of 1 more threads\n",
      "INFO - 00:53:53: worker thread finished; awaiting finish of 0 more threads\n",
      "INFO - 00:53:53: EPOCH - 14 : training on 1012 raw words (42 effective words) took 0.0s, 4594 effective words/s\n",
      "INFO - 00:53:53: worker thread finished; awaiting finish of 6 more threads\n",
      "INFO - 00:53:53: worker thread finished; awaiting finish of 5 more threads\n",
      "INFO - 00:53:53: worker thread finished; awaiting finish of 4 more threads\n",
      "INFO - 00:53:53: worker thread finished; awaiting finish of 3 more threads\n",
      "INFO - 00:53:53: worker thread finished; awaiting finish of 2 more threads\n",
      "INFO - 00:53:53: worker thread finished; awaiting finish of 1 more threads\n",
      "INFO - 00:53:53: worker thread finished; awaiting finish of 0 more threads\n",
      "INFO - 00:53:53: EPOCH - 15 : training on 1012 raw words (53 effective words) took 0.0s, 4680 effective words/s\n",
      "INFO - 00:53:53: worker thread finished; awaiting finish of 6 more threads\n",
      "INFO - 00:53:53: worker thread finished; awaiting finish of 5 more threads\n",
      "INFO - 00:53:53: worker thread finished; awaiting finish of 4 more threads\n",
      "INFO - 00:53:53: worker thread finished; awaiting finish of 3 more threads\n",
      "INFO - 00:53:53: worker thread finished; awaiting finish of 2 more threads\n",
      "INFO - 00:53:53: worker thread finished; awaiting finish of 1 more threads\n",
      "INFO - 00:53:53: worker thread finished; awaiting finish of 0 more threads\n",
      "INFO - 00:53:53: EPOCH - 16 : training on 1012 raw words (21 effective words) took 0.0s, 2601 effective words/s\n",
      "INFO - 00:53:53: worker thread finished; awaiting finish of 6 more threads\n",
      "INFO - 00:53:53: worker thread finished; awaiting finish of 5 more threads\n",
      "INFO - 00:53:53: worker thread finished; awaiting finish of 4 more threads\n",
      "INFO - 00:53:53: worker thread finished; awaiting finish of 3 more threads\n",
      "INFO - 00:53:53: worker thread finished; awaiting finish of 2 more threads\n",
      "INFO - 00:53:53: worker thread finished; awaiting finish of 1 more threads\n",
      "INFO - 00:53:53: worker thread finished; awaiting finish of 0 more threads\n",
      "INFO - 00:53:53: EPOCH - 17 : training on 1012 raw words (35 effective words) took 0.0s, 3435 effective words/s\n",
      "INFO - 00:53:53: worker thread finished; awaiting finish of 6 more threads\n",
      "INFO - 00:53:53: worker thread finished; awaiting finish of 5 more threads\n",
      "INFO - 00:53:53: worker thread finished; awaiting finish of 4 more threads\n",
      "INFO - 00:53:53: worker thread finished; awaiting finish of 3 more threads\n",
      "INFO - 00:53:53: worker thread finished; awaiting finish of 2 more threads\n",
      "INFO - 00:53:53: worker thread finished; awaiting finish of 1 more threads\n",
      "INFO - 00:53:53: worker thread finished; awaiting finish of 0 more threads\n",
      "INFO - 00:53:53: EPOCH - 18 : training on 1012 raw words (36 effective words) took 0.0s, 4124 effective words/s\n",
      "INFO - 00:53:53: worker thread finished; awaiting finish of 6 more threads\n",
      "INFO - 00:53:53: worker thread finished; awaiting finish of 5 more threads\n",
      "INFO - 00:53:53: worker thread finished; awaiting finish of 4 more threads\n",
      "INFO - 00:53:53: worker thread finished; awaiting finish of 3 more threads\n",
      "INFO - 00:53:53: worker thread finished; awaiting finish of 2 more threads\n",
      "INFO - 00:53:53: worker thread finished; awaiting finish of 1 more threads\n",
      "INFO - 00:53:53: worker thread finished; awaiting finish of 0 more threads\n",
      "INFO - 00:53:53: EPOCH - 19 : training on 1012 raw words (31 effective words) took 0.0s, 2823 effective words/s\n",
      "INFO - 00:53:53: worker thread finished; awaiting finish of 6 more threads\n",
      "INFO - 00:53:53: worker thread finished; awaiting finish of 5 more threads\n",
      "INFO - 00:53:53: worker thread finished; awaiting finish of 4 more threads\n",
      "INFO - 00:53:53: worker thread finished; awaiting finish of 3 more threads\n",
      "INFO - 00:53:53: worker thread finished; awaiting finish of 2 more threads\n",
      "INFO - 00:53:53: worker thread finished; awaiting finish of 1 more threads\n",
      "INFO - 00:53:53: worker thread finished; awaiting finish of 0 more threads\n",
      "INFO - 00:53:53: EPOCH - 20 : training on 1012 raw words (24 effective words) took 0.0s, 2159 effective words/s\n",
      "INFO - 00:53:53: worker thread finished; awaiting finish of 6 more threads\n",
      "INFO - 00:53:53: worker thread finished; awaiting finish of 5 more threads\n",
      "INFO - 00:53:53: worker thread finished; awaiting finish of 4 more threads\n",
      "INFO - 00:53:53: worker thread finished; awaiting finish of 3 more threads\n",
      "INFO - 00:53:53: worker thread finished; awaiting finish of 2 more threads\n",
      "INFO - 00:53:53: worker thread finished; awaiting finish of 1 more threads\n",
      "INFO - 00:53:53: worker thread finished; awaiting finish of 0 more threads\n",
      "INFO - 00:53:53: EPOCH - 21 : training on 1012 raw words (39 effective words) took 0.0s, 5156 effective words/s\n",
      "INFO - 00:53:53: worker thread finished; awaiting finish of 6 more threads\n",
      "INFO - 00:53:53: worker thread finished; awaiting finish of 5 more threads\n",
      "INFO - 00:53:53: worker thread finished; awaiting finish of 4 more threads\n",
      "INFO - 00:53:53: worker thread finished; awaiting finish of 3 more threads\n",
      "INFO - 00:53:53: worker thread finished; awaiting finish of 2 more threads\n",
      "INFO - 00:53:53: worker thread finished; awaiting finish of 1 more threads\n",
      "INFO - 00:53:53: worker thread finished; awaiting finish of 0 more threads\n",
      "INFO - 00:53:53: EPOCH - 22 : training on 1012 raw words (38 effective words) took 0.0s, 4596 effective words/s\n",
      "INFO - 00:53:53: worker thread finished; awaiting finish of 6 more threads\n",
      "INFO - 00:53:53: worker thread finished; awaiting finish of 5 more threads\n",
      "INFO - 00:53:53: worker thread finished; awaiting finish of 4 more threads\n",
      "INFO - 00:53:53: worker thread finished; awaiting finish of 3 more threads\n",
      "INFO - 00:53:53: worker thread finished; awaiting finish of 2 more threads\n",
      "INFO - 00:53:53: worker thread finished; awaiting finish of 1 more threads\n",
      "INFO - 00:53:53: worker thread finished; awaiting finish of 0 more threads\n",
      "INFO - 00:53:53: EPOCH - 23 : training on 1012 raw words (26 effective words) took 0.0s, 3374 effective words/s\n"
     ]
    },
    {
     "name": "stderr",
     "output_type": "stream",
     "text": [
      "INFO - 00:53:53: worker thread finished; awaiting finish of 6 more threads\n",
      "INFO - 00:53:53: worker thread finished; awaiting finish of 5 more threads\n",
      "INFO - 00:53:53: worker thread finished; awaiting finish of 4 more threads\n",
      "INFO - 00:53:53: worker thread finished; awaiting finish of 3 more threads\n",
      "INFO - 00:53:53: worker thread finished; awaiting finish of 2 more threads\n",
      "INFO - 00:53:53: worker thread finished; awaiting finish of 1 more threads\n",
      "INFO - 00:53:53: worker thread finished; awaiting finish of 0 more threads\n",
      "INFO - 00:53:53: EPOCH - 24 : training on 1012 raw words (28 effective words) took 0.0s, 2765 effective words/s\n",
      "INFO - 00:53:53: worker thread finished; awaiting finish of 6 more threads\n",
      "INFO - 00:53:53: worker thread finished; awaiting finish of 5 more threads\n",
      "INFO - 00:53:53: worker thread finished; awaiting finish of 4 more threads\n",
      "INFO - 00:53:53: worker thread finished; awaiting finish of 3 more threads\n",
      "INFO - 00:53:53: worker thread finished; awaiting finish of 2 more threads\n",
      "INFO - 00:53:53: worker thread finished; awaiting finish of 1 more threads\n",
      "INFO - 00:53:53: worker thread finished; awaiting finish of 0 more threads\n",
      "INFO - 00:53:53: EPOCH - 25 : training on 1012 raw words (41 effective words) took 0.0s, 3414 effective words/s\n",
      "INFO - 00:53:53: worker thread finished; awaiting finish of 6 more threads\n",
      "INFO - 00:53:53: worker thread finished; awaiting finish of 5 more threads\n",
      "INFO - 00:53:53: worker thread finished; awaiting finish of 4 more threads\n",
      "INFO - 00:53:53: worker thread finished; awaiting finish of 3 more threads\n",
      "INFO - 00:53:53: worker thread finished; awaiting finish of 2 more threads\n",
      "INFO - 00:53:53: worker thread finished; awaiting finish of 1 more threads\n",
      "INFO - 00:53:53: worker thread finished; awaiting finish of 0 more threads\n",
      "INFO - 00:53:53: EPOCH - 26 : training on 1012 raw words (39 effective words) took 0.0s, 4428 effective words/s\n",
      "INFO - 00:53:53: worker thread finished; awaiting finish of 6 more threads\n",
      "INFO - 00:53:53: worker thread finished; awaiting finish of 5 more threads\n",
      "INFO - 00:53:53: worker thread finished; awaiting finish of 4 more threads\n",
      "INFO - 00:53:53: worker thread finished; awaiting finish of 3 more threads\n",
      "INFO - 00:53:53: worker thread finished; awaiting finish of 2 more threads\n",
      "INFO - 00:53:53: worker thread finished; awaiting finish of 1 more threads\n",
      "INFO - 00:53:53: worker thread finished; awaiting finish of 0 more threads\n",
      "INFO - 00:53:53: EPOCH - 27 : training on 1012 raw words (34 effective words) took 0.0s, 3356 effective words/s\n",
      "INFO - 00:53:53: worker thread finished; awaiting finish of 6 more threads\n",
      "INFO - 00:53:53: worker thread finished; awaiting finish of 5 more threads\n",
      "INFO - 00:53:53: worker thread finished; awaiting finish of 4 more threads\n",
      "INFO - 00:53:53: worker thread finished; awaiting finish of 3 more threads\n",
      "INFO - 00:53:53: worker thread finished; awaiting finish of 2 more threads\n",
      "INFO - 00:53:53: worker thread finished; awaiting finish of 1 more threads\n",
      "INFO - 00:53:53: worker thread finished; awaiting finish of 0 more threads\n",
      "INFO - 00:53:53: EPOCH - 28 : training on 1012 raw words (24 effective words) took 0.0s, 2700 effective words/s\n",
      "INFO - 00:53:53: worker thread finished; awaiting finish of 6 more threads\n",
      "INFO - 00:53:53: worker thread finished; awaiting finish of 5 more threads\n",
      "INFO - 00:53:53: worker thread finished; awaiting finish of 4 more threads\n",
      "INFO - 00:53:53: worker thread finished; awaiting finish of 3 more threads\n",
      "INFO - 00:53:53: worker thread finished; awaiting finish of 2 more threads\n",
      "INFO - 00:53:53: worker thread finished; awaiting finish of 1 more threads\n",
      "INFO - 00:53:53: worker thread finished; awaiting finish of 0 more threads\n",
      "INFO - 00:53:53: EPOCH - 29 : training on 1012 raw words (35 effective words) took 0.0s, 3789 effective words/s\n",
      "INFO - 00:53:53: worker thread finished; awaiting finish of 6 more threads\n",
      "INFO - 00:53:53: worker thread finished; awaiting finish of 5 more threads\n",
      "INFO - 00:53:53: worker thread finished; awaiting finish of 4 more threads\n",
      "INFO - 00:53:53: worker thread finished; awaiting finish of 3 more threads\n",
      "INFO - 00:53:53: worker thread finished; awaiting finish of 2 more threads\n",
      "INFO - 00:53:53: worker thread finished; awaiting finish of 1 more threads\n",
      "INFO - 00:53:53: worker thread finished; awaiting finish of 0 more threads\n",
      "INFO - 00:53:53: EPOCH - 30 : training on 1012 raw words (30 effective words) took 0.0s, 3596 effective words/s\n",
      "INFO - 00:53:53: Word2Vec lifecycle event {'msg': 'training on 30360 raw words (974 effective words) took 0.5s, 1837 effective words/s', 'datetime': '2022-04-01T00:53:53.525780', 'gensim': '4.1.2', 'python': '3.8.12 (default, Oct 12 2021, 03:01:40) [MSC v.1916 64 bit (AMD64)]', 'platform': 'Windows-10-10.0.22000-SP0', 'event': 'train'}\n"
     ]
    },
    {
     "name": "stdout",
     "output_type": "stream",
     "text": [
      "Time to train the model: 0.01 mins\n",
      "[('factor', 0.9940826892852783), ('cell', 0.9909210801124573), ('amp', 0.9887978434562683), ('target', 0.9875363707542419), ('collagen', 0.9862659573554993), ('topical', 0.9848151206970215), ('effect', 0.9841198921203613), ('approach', 0.983677327632904), ('development', 0.9830446243286133), ('activity', 0.9822317957878113)]\n"
     ]
    }
   ],
   "source": [
    "#conda install -c conda-forge spacy-model-en_core_web_sm\n",
    "import re\n",
    "import pandas as pd\n",
    "from time import time  # To time our operations\n",
    "from collections import defaultdict  # For word frequency\n",
    "\n",
    "import spacy  # For preprocessing\n",
    "\n",
    "\n",
    "import logging\n",
    "\n",
    "logging.basicConfig(format=\"%(levelname)s - %(asctime)s: %(message)s\", datefmt= '%H:%M:%S', level=logging.INFO)\n",
    "df =pd.read_csv('woundabstracts.csv')\n",
    "##print(df['abstract'])\n",
    "df=df.dropna().reset_index(drop=True)\n",
    "##send=[row.split(' ') for row in df]\n",
    "nlp = spacy.load(\"en_core_web_sm\", disable=[\"ner\", \"parser\"]) # disabling Named Entity Recognition for speed\n",
    "def cleaning(doc):\n",
    "    txt=[token.lemma_ for token in doc if not token.is_stop]\n",
    "    if len(txt) > 2:\n",
    "        return ' '.join(txt)\n",
    "brief_cleaning = (re.sub(\"[^A-Za-z']+\", ' ', str(row)).lower() for row in df['abstract'])\n",
    "t = time()\n",
    "\n",
    "txt = [cleaning(doc) for doc in nlp.pipe(brief_cleaning, batch_size=5000)]\n",
    "\n",
    "print('Time to clean up everything: {} mins'.format(round((time() - t) / 60, 2)))\n",
    "df_clean = pd.DataFrame({'abstract': txt})\n",
    "df_clean = df_clean.dropna().drop_duplicates()\n",
    "print(df_clean.shape)\n",
    "sent = [row.split() for row in df_clean['abstract']]\n",
    "print(sent[:2])\n",
    "import multiprocessing\n",
    "\n",
    "from gensim.models import Word2Vec\n",
    "cores = multiprocessing.cpu_count() # Count the number of cores in a computer\n",
    "\n",
    "w2v_model = Word2Vec(min_count=3,window=2,vector_size=50,sample=6e-5, alpha=0.03, min_alpha=0.0007, negative=20,workers=cores-1)\n",
    "\n",
    "t = time()\n",
    "\n",
    "w2v_model.build_vocab(sent, progress_per=10000)\n",
    "\n",
    "print('Time to build vocab: {} mins'.format(round((time() - t) / 60, 2)))\n",
    "\n",
    "t = time()\n",
    "\n",
    "w2v_model.train(sent, total_examples=w2v_model.corpus_count, epochs=30, report_delay=1)\n",
    "\n",
    "print('Time to train the model: {} mins'.format(round((time() - t) / 60, 2)))\n",
    "\n",
    "##w2v_model.init_sims(replace=True)\n",
    "print(w2v_model.wv.most_similar(positive=[\"wound\"]))\n",
    "##w2v_model.wv.similarity(\"moe_'s\", 'tavern')\n",
    "\n",
    "\n",
    "\n"
   ]
  },
  {
   "cell_type": "code",
   "execution_count": 2,
   "id": "5c2dcb09",
   "metadata": {},
   "outputs": [
    {
     "name": "stdout",
     "output_type": "stream",
     "text": [
      "[('factor', 0.9940826892852783), ('cell', 0.9909210801124573), ('amp', 0.9887978434562683), ('target', 0.9875363707542419), ('collagen', 0.9862659573554993), ('topical', 0.9848151206970215), ('effect', 0.9841198921203613), ('approach', 0.983677327632904), ('development', 0.9830446243286133), ('activity', 0.9822317957878113)]\n"
     ]
    }
   ],
   "source": [
    "print(w2v_model.wv.most_similar(positive=[\"wound\"]))"
   ]
  },
  {
   "cell_type": "code",
   "execution_count": 3,
   "id": "b781d386",
   "metadata": {},
   "outputs": [
    {
     "name": "stdout",
     "output_type": "stream",
     "text": [
      "{'wound': 0, 'healing': 1, 'factor': 2, 'growth': 3, 'cell': 4, 'process': 5, 'amp': 6, 'cytokine': 7, 'clinical': 8, 'tissue': 9, 'study': 10, 'stem': 11, 'review': 12, 'formulation': 13, 'involve': 14, 'therapy': 15, 'development': 16, 'topical': 17, 'include': 18, 'skin': 19, 'role': 20, 'molecular': 21, 'phase': 22, 'excessive': 23, 'matrix': 24, 'complex': 25, 'chronic': 26, 'family': 27, 'heal': 28, 'activity': 29, 'fibroblast': 30, 'gene': 31, 'repair': 32, 'ulcer': 33, 'focus': 34, 'endothelial': 35, 'pdgf': 36, 'abhd': 37, 'application': 38, 'collagen': 39, 'trial': 40, 'present': 41, 'current': 42, 'antimicrobial': 43, 'extracellular': 44, 'need': 45, 'function': 46, 'normal': 47, 'inflammatory': 48, 'proliferative': 49, 'peptide': 50, 'essential': 51, 'follow': 52, 'target': 53, 'article': 54, 'high': 55, 'provide': 56, 'address': 57, 'specific': 58, 'delivery': 59, 'new': 60, 'state': 61, 'regulate': 62, 'patient': 63, 'effect': 64, 'epidermal': 65, 'numerous': 66, 'platelet': 67, 'approach': 68, 'delay': 69}\n"
     ]
    },
    {
     "data": {
      "text/plain": [
       "0.98168874"
      ]
     },
     "execution_count": 3,
     "metadata": {},
     "output_type": "execute_result"
    }
   ],
   "source": [
    "print(w2v_model.wv.key_to_index)\n",
    "\n",
    "w2v_model.wv.similarity(\"wound\", 'healing')\n"
   ]
  },
  {
   "cell_type": "code",
   "execution_count": 4,
   "id": "5c57740a",
   "metadata": {},
   "outputs": [],
   "source": [
    "# read_file = pd.read_csv ('proteins.txt',sep='\\n',header=None)\n",
    "# read_file.columns = ['Name']\n",
    "# read_file.to_csv ('protein.csv', index=None)\n"
   ]
  },
  {
   "cell_type": "code",
   "execution_count": 5,
   "id": "0aa41c9d",
   "metadata": {},
   "outputs": [],
   "source": [
    "# read_file = pd.read_csv ('genes.txt',sep='\\n',header=None)\n",
    "# read_file.columns = ['Name']\n",
    "# read_file.to_csv ('gene.csv', index=None)"
   ]
  },
  {
   "cell_type": "code",
   "execution_count": 6,
   "id": "ba319038",
   "metadata": {},
   "outputs": [
    {
     "data": {
      "text/html": [
       "<div>\n",
       "<style scoped>\n",
       "    .dataframe tbody tr th:only-of-type {\n",
       "        vertical-align: middle;\n",
       "    }\n",
       "\n",
       "    .dataframe tbody tr th {\n",
       "        vertical-align: top;\n",
       "    }\n",
       "\n",
       "    .dataframe thead th {\n",
       "        text-align: right;\n",
       "    }\n",
       "</style>\n",
       "<table border=\"1\" class=\"dataframe\">\n",
       "  <thead>\n",
       "    <tr style=\"text-align: right;\">\n",
       "      <th></th>\n",
       "      <th>Name</th>\n",
       "    </tr>\n",
       "  </thead>\n",
       "  <tbody>\n",
       "    <tr>\n",
       "      <th>0</th>\n",
       "      <td>17betaHSD</td>\n",
       "    </tr>\n",
       "    <tr>\n",
       "      <th>1</th>\n",
       "      <td>ABHD10</td>\n",
       "    </tr>\n",
       "    <tr>\n",
       "      <th>2</th>\n",
       "      <td>ABHD11</td>\n",
       "    </tr>\n",
       "    <tr>\n",
       "      <th>3</th>\n",
       "      <td>ABRAXAS2</td>\n",
       "    </tr>\n",
       "    <tr>\n",
       "      <th>4</th>\n",
       "      <td>ACADL</td>\n",
       "    </tr>\n",
       "  </tbody>\n",
       "</table>\n",
       "</div>"
      ],
      "text/plain": [
       "         Name\n",
       "0   17betaHSD\n",
       "1    ABHD10  \n",
       "2    ABHD11  \n",
       "3  ABRAXAS2  \n",
       "4     ACADL  "
      ]
     },
     "execution_count": 6,
     "metadata": {},
     "output_type": "execute_result"
    }
   ],
   "source": [
    "proteins=pd.read_csv('protein.csv')\n",
    "genes=pd.read_csv('gene.csv')"
   ]
  },
  {
   "cell_type": "code",
   "execution_count": 14,
   "id": "509773c9",
   "metadata": {},
   "outputs": [
    {
     "name": "stdout",
     "output_type": "stream",
     "text": [
      "0.9594853  cytokine\n"
     ]
    }
   ],
   "source": [
    "brief_cleaning = (re.sub(\" \", '', str(row)).lower() for row in genes['Name'])\n",
    "genes=pd.DataFrame({'Name': brief_cleaning})\n",
    "for index, row in genes. iterrows():\n",
    "    try:\n",
    "        #print(row['Name']+\"--\")\n",
    "        print(w2v_model.wv.similarity(\"wound\",row['Name']),\" \",end='')\n",
    "    except:\n",
    "        continue\n",
    "    print(row['Name'])"
   ]
  },
  {
   "cell_type": "code",
   "execution_count": 15,
   "id": "22f7d90a",
   "metadata": {},
   "outputs": [
    {
     "name": "stdout",
     "output_type": "stream",
     "text": [
      "0.9862659  collagen\n",
      "0.9594853  cytokine\n",
      "0.96762276  family\n"
     ]
    }
   ],
   "source": [
    "brief_cleaning = (re.sub(\" \", '', str(row)).lower() for row in proteins['Name'])\n",
    "proteins=pd.DataFrame({'Name': brief_cleaning})\n",
    "for index, row in proteins. iterrows():\n",
    "    try:\n",
    "        print(w2v_model.wv.similarity(\"wound\",row['Name']),\" \",end='')\n",
    "    except:\n",
    "        continue\n",
    "    print(row['Name'])"
   ]
  },
  {
   "cell_type": "code",
   "execution_count": 16,
   "id": "5f6518a9",
   "metadata": {},
   "outputs": [
    {
     "data": {
      "text/plain": [
       "0.94097775"
      ]
     },
     "execution_count": 16,
     "metadata": {},
     "output_type": "execute_result"
    }
   ],
   "source": [
    "w2v_model.wv.similarity(\"cytokine\", 'collagen')"
   ]
  },
  {
   "cell_type": "code",
   "execution_count": null,
   "id": "ccf80259",
   "metadata": {},
   "outputs": [],
   "source": []
  }
 ],
 "metadata": {
  "kernelspec": {
   "display_name": "Python 3 (ipykernel)",
   "language": "python",
   "name": "python3"
  },
  "language_info": {
   "codemirror_mode": {
    "name": "ipython",
    "version": 3
   },
   "file_extension": ".py",
   "mimetype": "text/x-python",
   "name": "python",
   "nbconvert_exporter": "python",
   "pygments_lexer": "ipython3",
   "version": "3.8.12"
  }
 },
 "nbformat": 4,
 "nbformat_minor": 5
}
